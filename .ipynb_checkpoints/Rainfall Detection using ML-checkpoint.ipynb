{
 "cells": [
  {
   "cell_type": "code",
   "execution_count": 5,
   "id": "65b5ad17-9a3b-4a41-8253-64d454e83ff3",
   "metadata": {},
   "outputs": [],
   "source": [
    "import sklearn\n",
    "import pandas as pd\n",
    "import numpy as np\n",
    "import matplotlib.pyplot as plt\n",
    "import seaborn as sb"
   ]
  },
  {
   "cell_type": "code",
   "execution_count": 6,
   "id": "7d57f3db-cd34-4170-8826-28829e811d17",
   "metadata": {},
   "outputs": [],
   "source": [
    "import warnings\n",
    "warnings.filterwarnings('ignore')"
   ]
  },
  {
   "cell_type": "code",
   "execution_count": 7,
   "id": "2c157f10-f640-44a4-8450-0c32c999d158",
   "metadata": {},
   "outputs": [
    {
     "data": {
      "text/html": [
       "<div>\n",
       "<style scoped>\n",
       "    .dataframe tbody tr th:only-of-type {\n",
       "        vertical-align: middle;\n",
       "    }\n",
       "\n",
       "    .dataframe tbody tr th {\n",
       "        vertical-align: top;\n",
       "    }\n",
       "\n",
       "    .dataframe thead th {\n",
       "        text-align: right;\n",
       "    }\n",
       "</style>\n",
       "<table border=\"1\" class=\"dataframe\">\n",
       "  <thead>\n",
       "    <tr style=\"text-align: right;\">\n",
       "      <th></th>\n",
       "      <th>YEAR</th>\n",
       "      <th>MO</th>\n",
       "      <th>DY</th>\n",
       "      <th>T2M</th>\n",
       "      <th>T2MDEW</th>\n",
       "      <th>QV2M</th>\n",
       "      <th>RH2M</th>\n",
       "      <th>PRECTOTCORR</th>\n",
       "      <th>PS</th>\n",
       "      <th>WS10M</th>\n",
       "    </tr>\n",
       "  </thead>\n",
       "  <tbody>\n",
       "    <tr>\n",
       "      <th>0</th>\n",
       "      <td>1981</td>\n",
       "      <td>2</td>\n",
       "      <td>1</td>\n",
       "      <td>14.98</td>\n",
       "      <td>11.94</td>\n",
       "      <td>8.79</td>\n",
       "      <td>82.56</td>\n",
       "      <td>5.52</td>\n",
       "      <td>100.03</td>\n",
       "      <td>3.10</td>\n",
       "    </tr>\n",
       "    <tr>\n",
       "      <th>1</th>\n",
       "      <td>1981</td>\n",
       "      <td>2</td>\n",
       "      <td>2</td>\n",
       "      <td>15.78</td>\n",
       "      <td>11.65</td>\n",
       "      <td>8.61</td>\n",
       "      <td>78.06</td>\n",
       "      <td>0.04</td>\n",
       "      <td>100.02</td>\n",
       "      <td>2.02</td>\n",
       "    </tr>\n",
       "    <tr>\n",
       "      <th>2</th>\n",
       "      <td>1981</td>\n",
       "      <td>2</td>\n",
       "      <td>3</td>\n",
       "      <td>15.36</td>\n",
       "      <td>11.64</td>\n",
       "      <td>8.54</td>\n",
       "      <td>80.38</td>\n",
       "      <td>0.75</td>\n",
       "      <td>100.07</td>\n",
       "      <td>2.30</td>\n",
       "    </tr>\n",
       "    <tr>\n",
       "      <th>3</th>\n",
       "      <td>1981</td>\n",
       "      <td>2</td>\n",
       "      <td>4</td>\n",
       "      <td>15.77</td>\n",
       "      <td>11.55</td>\n",
       "      <td>8.54</td>\n",
       "      <td>77.62</td>\n",
       "      <td>0.00</td>\n",
       "      <td>99.94</td>\n",
       "      <td>2.19</td>\n",
       "    </tr>\n",
       "    <tr>\n",
       "      <th>4</th>\n",
       "      <td>1981</td>\n",
       "      <td>2</td>\n",
       "      <td>5</td>\n",
       "      <td>16.55</td>\n",
       "      <td>11.87</td>\n",
       "      <td>8.73</td>\n",
       "      <td>76.00</td>\n",
       "      <td>0.00</td>\n",
       "      <td>100.03</td>\n",
       "      <td>2.04</td>\n",
       "    </tr>\n",
       "  </tbody>\n",
       "</table>\n",
       "</div>"
      ],
      "text/plain": [
       "   YEAR  MO  DY    T2M  T2MDEW  QV2M   RH2M  PRECTOTCORR      PS  WS10M\n",
       "0  1981   2   1  14.98   11.94  8.79  82.56         5.52  100.03   3.10\n",
       "1  1981   2   2  15.78   11.65  8.61  78.06         0.04  100.02   2.02\n",
       "2  1981   2   3  15.36   11.64  8.54  80.38         0.75  100.07   2.30\n",
       "3  1981   2   4  15.77   11.55  8.54  77.62         0.00   99.94   2.19\n",
       "4  1981   2   5  16.55   11.87  8.73  76.00         0.00  100.03   2.04"
      ]
     },
     "execution_count": 7,
     "metadata": {},
     "output_type": "execute_result"
    }
   ],
   "source": [
    "df = pd.read_csv(\"data_set.csv\")\n",
    "df.head()"
   ]
  },
  {
   "cell_type": "code",
   "execution_count": 8,
   "id": "57a0e1e2-d6b7-4d2a-802f-bc24e2e0dd62",
   "metadata": {},
   "outputs": [
    {
     "data": {
      "text/plain": [
       "(15368, 10)"
      ]
     },
     "execution_count": 8,
     "metadata": {},
     "output_type": "execute_result"
    }
   ],
   "source": [
    "df.shape"
   ]
  },
  {
   "cell_type": "code",
   "execution_count": 9,
   "id": "874c6d1f-f5fd-4b47-a4ed-657aab69b965",
   "metadata": {},
   "outputs": [
    {
     "name": "stdout",
     "output_type": "stream",
     "text": [
      "<class 'pandas.core.frame.DataFrame'>\n",
      "RangeIndex: 15368 entries, 0 to 15367\n",
      "Data columns (total 10 columns):\n",
      " #   Column       Non-Null Count  Dtype  \n",
      "---  ------       --------------  -----  \n",
      " 0   YEAR         15368 non-null  int64  \n",
      " 1   MO           15368 non-null  int64  \n",
      " 2   DY           15368 non-null  int64  \n",
      " 3   T2M          15368 non-null  float64\n",
      " 4   T2MDEW       15368 non-null  float64\n",
      " 5   QV2M         15368 non-null  float64\n",
      " 6   RH2M         15368 non-null  float64\n",
      " 7   PRECTOTCORR  15368 non-null  float64\n",
      " 8   PS           15368 non-null  float64\n",
      " 9   WS10M        15368 non-null  float64\n",
      "dtypes: float64(7), int64(3)\n",
      "memory usage: 1.2 MB\n"
     ]
    }
   ],
   "source": [
    "df.info()"
   ]
  },
  {
   "cell_type": "code",
   "execution_count": 10,
   "id": "18c220a3-1d88-438e-ae78-3cfe2e3b931c",
   "metadata": {},
   "outputs": [
    {
     "data": {
      "text/html": [
       "<div>\n",
       "<style scoped>\n",
       "    .dataframe tbody tr th:only-of-type {\n",
       "        vertical-align: middle;\n",
       "    }\n",
       "\n",
       "    .dataframe tbody tr th {\n",
       "        vertical-align: top;\n",
       "    }\n",
       "\n",
       "    .dataframe thead th {\n",
       "        text-align: right;\n",
       "    }\n",
       "</style>\n",
       "<table border=\"1\" class=\"dataframe\">\n",
       "  <thead>\n",
       "    <tr style=\"text-align: right;\">\n",
       "      <th></th>\n",
       "      <th>count</th>\n",
       "      <th>mean</th>\n",
       "      <th>std</th>\n",
       "      <th>min</th>\n",
       "      <th>25%</th>\n",
       "      <th>50%</th>\n",
       "      <th>75%</th>\n",
       "      <th>max</th>\n",
       "    </tr>\n",
       "  </thead>\n",
       "  <tbody>\n",
       "    <tr>\n",
       "      <th>YEAR</th>\n",
       "      <td>15368.0</td>\n",
       "      <td>2001.624219</td>\n",
       "      <td>12.147450</td>\n",
       "      <td>1981.0</td>\n",
       "      <td>1991.0000</td>\n",
       "      <td>2002.00</td>\n",
       "      <td>2012.00</td>\n",
       "      <td>2023.00</td>\n",
       "    </tr>\n",
       "    <tr>\n",
       "      <th>MO</th>\n",
       "      <td>15368.0</td>\n",
       "      <td>6.514836</td>\n",
       "      <td>3.451027</td>\n",
       "      <td>1.0</td>\n",
       "      <td>4.0000</td>\n",
       "      <td>7.00</td>\n",
       "      <td>10.00</td>\n",
       "      <td>12.00</td>\n",
       "    </tr>\n",
       "    <tr>\n",
       "      <th>DY</th>\n",
       "      <td>15368.0</td>\n",
       "      <td>15.726965</td>\n",
       "      <td>8.799090</td>\n",
       "      <td>1.0</td>\n",
       "      <td>8.0000</td>\n",
       "      <td>16.00</td>\n",
       "      <td>23.00</td>\n",
       "      <td>31.00</td>\n",
       "    </tr>\n",
       "    <tr>\n",
       "      <th>T2M</th>\n",
       "      <td>15368.0</td>\n",
       "      <td>23.769878</td>\n",
       "      <td>15.143121</td>\n",
       "      <td>-999.0</td>\n",
       "      <td>19.4975</td>\n",
       "      <td>25.56</td>\n",
       "      <td>28.24</td>\n",
       "      <td>33.86</td>\n",
       "    </tr>\n",
       "    <tr>\n",
       "      <th>T2MDEW</th>\n",
       "      <td>15368.0</td>\n",
       "      <td>18.227975</td>\n",
       "      <td>15.535352</td>\n",
       "      <td>-999.0</td>\n",
       "      <td>12.8300</td>\n",
       "      <td>19.44</td>\n",
       "      <td>24.55</td>\n",
       "      <td>27.53</td>\n",
       "    </tr>\n",
       "    <tr>\n",
       "      <th>QV2M</th>\n",
       "      <td>15368.0</td>\n",
       "      <td>14.170456</td>\n",
       "      <td>15.094699</td>\n",
       "      <td>-999.0</td>\n",
       "      <td>9.3400</td>\n",
       "      <td>14.34</td>\n",
       "      <td>19.71</td>\n",
       "      <td>23.68</td>\n",
       "    </tr>\n",
       "    <tr>\n",
       "      <th>RH2M</th>\n",
       "      <td>15368.0</td>\n",
       "      <td>73.559393</td>\n",
       "      <td>19.248063</td>\n",
       "      <td>-999.0</td>\n",
       "      <td>66.9850</td>\n",
       "      <td>77.00</td>\n",
       "      <td>82.69</td>\n",
       "      <td>94.81</td>\n",
       "    </tr>\n",
       "    <tr>\n",
       "      <th>PRECTOTCORR</th>\n",
       "      <td>15368.0</td>\n",
       "      <td>4.656510</td>\n",
       "      <td>17.329175</td>\n",
       "      <td>-999.0</td>\n",
       "      <td>0.0000</td>\n",
       "      <td>0.40</td>\n",
       "      <td>5.04</td>\n",
       "      <td>183.78</td>\n",
       "    </tr>\n",
       "    <tr>\n",
       "      <th>PS</th>\n",
       "      <td>15368.0</td>\n",
       "      <td>99.026087</td>\n",
       "      <td>15.353508</td>\n",
       "      <td>-999.0</td>\n",
       "      <td>98.7700</td>\n",
       "      <td>99.25</td>\n",
       "      <td>99.71</td>\n",
       "      <td>100.69</td>\n",
       "    </tr>\n",
       "    <tr>\n",
       "      <th>WS10M</th>\n",
       "      <td>15368.0</td>\n",
       "      <td>2.442391</td>\n",
       "      <td>14.013726</td>\n",
       "      <td>-999.0</td>\n",
       "      <td>2.1200</td>\n",
       "      <td>2.57</td>\n",
       "      <td>3.05</td>\n",
       "      <td>9.38</td>\n",
       "    </tr>\n",
       "  </tbody>\n",
       "</table>\n",
       "</div>"
      ],
      "text/plain": [
       "               count         mean        std     min        25%      50%  \\\n",
       "YEAR         15368.0  2001.624219  12.147450  1981.0  1991.0000  2002.00   \n",
       "MO           15368.0     6.514836   3.451027     1.0     4.0000     7.00   \n",
       "DY           15368.0    15.726965   8.799090     1.0     8.0000    16.00   \n",
       "T2M          15368.0    23.769878  15.143121  -999.0    19.4975    25.56   \n",
       "T2MDEW       15368.0    18.227975  15.535352  -999.0    12.8300    19.44   \n",
       "QV2M         15368.0    14.170456  15.094699  -999.0     9.3400    14.34   \n",
       "RH2M         15368.0    73.559393  19.248063  -999.0    66.9850    77.00   \n",
       "PRECTOTCORR  15368.0     4.656510  17.329175  -999.0     0.0000     0.40   \n",
       "PS           15368.0    99.026087  15.353508  -999.0    98.7700    99.25   \n",
       "WS10M        15368.0     2.442391  14.013726  -999.0     2.1200     2.57   \n",
       "\n",
       "                 75%      max  \n",
       "YEAR         2012.00  2023.00  \n",
       "MO             10.00    12.00  \n",
       "DY             23.00    31.00  \n",
       "T2M            28.24    33.86  \n",
       "T2MDEW         24.55    27.53  \n",
       "QV2M           19.71    23.68  \n",
       "RH2M           82.69    94.81  \n",
       "PRECTOTCORR     5.04   183.78  \n",
       "PS             99.71   100.69  \n",
       "WS10M           3.05     9.38  "
      ]
     },
     "execution_count": 10,
     "metadata": {},
     "output_type": "execute_result"
    }
   ],
   "source": [
    "df.describe().T"
   ]
  },
  {
   "cell_type": "code",
   "execution_count": 11,
   "id": "aa5312a2-979e-4ad4-82a7-d67a550d6e30",
   "metadata": {},
   "outputs": [
    {
     "data": {
      "text/plain": [
       "YEAR           0\n",
       "MO             0\n",
       "DY             0\n",
       "T2M            0\n",
       "T2MDEW         0\n",
       "QV2M           0\n",
       "RH2M           0\n",
       "PRECTOTCORR    0\n",
       "PS             0\n",
       "WS10M          0\n",
       "dtype: int64"
      ]
     },
     "execution_count": 11,
     "metadata": {},
     "output_type": "execute_result"
    }
   ],
   "source": [
    "df.isnull().sum()"
   ]
  },
  {
   "cell_type": "code",
   "execution_count": 15,
   "id": "bcc6f788-992e-4134-a54a-cbafed1f6049",
   "metadata": {},
   "outputs": [
    {
     "data": {
      "text/plain": [
       "YEAR           0.0\n",
       "MO             0.0\n",
       "DY             0.0\n",
       "T2M            0.0\n",
       "T2MDEW         0.0\n",
       "QV2M           0.0\n",
       "RH2M           0.0\n",
       "PRECTOTCORR    0.0\n",
       "PS             0.0\n",
       "WS10M          0.0\n",
       "dtype: float64"
      ]
     },
     "execution_count": 15,
     "metadata": {},
     "output_type": "execute_result"
    }
   ],
   "source": [
    "df.apply(pd.isnull).sum()/df.shape[0]"
   ]
  },
  {
   "cell_type": "code",
   "execution_count": 16,
   "id": "f41dca72-1419-4f1e-af28-d9e66ef86e17",
   "metadata": {},
   "outputs": [],
   "source": [
    "weather = df[[\"YEAR\", \"MO\", \"DY\", \"T2M\", \"T2MDEW\", \"QV2M\", \"RH2M\", \"PRECTOTCORR\", \"PS\", \"WS10M\"]].copy()"
   ]
  },
  {
   "cell_type": "code",
   "execution_count": 17,
   "id": "affaa7ab-f7c1-498d-9db4-55badcbb78dd",
   "metadata": {},
   "outputs": [],
   "source": [
    "weather.columns = [\"Year\", \"Month\", \"Day\", \"Temp 2M\", \"Dew 2M\", \"Spc Hum 2M\", \"Rel Hum 2M\", \"Prcp Crctd\", \"Surf Pressure\", \"Wind Spd 10M\"]"
   ]
  },
  {
   "cell_type": "code",
   "execution_count": 18,
   "id": "2c694a70-5182-4252-afa9-bf33574ce821",
   "metadata": {},
   "outputs": [
    {
     "data": {
      "text/html": [
       "<div>\n",
       "<style scoped>\n",
       "    .dataframe tbody tr th:only-of-type {\n",
       "        vertical-align: middle;\n",
       "    }\n",
       "\n",
       "    .dataframe tbody tr th {\n",
       "        vertical-align: top;\n",
       "    }\n",
       "\n",
       "    .dataframe thead th {\n",
       "        text-align: right;\n",
       "    }\n",
       "</style>\n",
       "<table border=\"1\" class=\"dataframe\">\n",
       "  <thead>\n",
       "    <tr style=\"text-align: right;\">\n",
       "      <th></th>\n",
       "      <th>Year</th>\n",
       "      <th>Month</th>\n",
       "      <th>Day</th>\n",
       "      <th>Temp 2M</th>\n",
       "      <th>Dew 2M</th>\n",
       "      <th>Spc Hum 2M</th>\n",
       "      <th>Rel Hum 2M</th>\n",
       "      <th>Prcp Crctd</th>\n",
       "      <th>Surf Pressure</th>\n",
       "      <th>Wind Spd 10M</th>\n",
       "    </tr>\n",
       "  </thead>\n",
       "  <tbody>\n",
       "    <tr>\n",
       "      <th>0</th>\n",
       "      <td>1981</td>\n",
       "      <td>2</td>\n",
       "      <td>1</td>\n",
       "      <td>14.98</td>\n",
       "      <td>11.94</td>\n",
       "      <td>8.79</td>\n",
       "      <td>82.56</td>\n",
       "      <td>5.52</td>\n",
       "      <td>100.03</td>\n",
       "      <td>3.10</td>\n",
       "    </tr>\n",
       "    <tr>\n",
       "      <th>1</th>\n",
       "      <td>1981</td>\n",
       "      <td>2</td>\n",
       "      <td>2</td>\n",
       "      <td>15.78</td>\n",
       "      <td>11.65</td>\n",
       "      <td>8.61</td>\n",
       "      <td>78.06</td>\n",
       "      <td>0.04</td>\n",
       "      <td>100.02</td>\n",
       "      <td>2.02</td>\n",
       "    </tr>\n",
       "    <tr>\n",
       "      <th>2</th>\n",
       "      <td>1981</td>\n",
       "      <td>2</td>\n",
       "      <td>3</td>\n",
       "      <td>15.36</td>\n",
       "      <td>11.64</td>\n",
       "      <td>8.54</td>\n",
       "      <td>80.38</td>\n",
       "      <td>0.75</td>\n",
       "      <td>100.07</td>\n",
       "      <td>2.30</td>\n",
       "    </tr>\n",
       "    <tr>\n",
       "      <th>3</th>\n",
       "      <td>1981</td>\n",
       "      <td>2</td>\n",
       "      <td>4</td>\n",
       "      <td>15.77</td>\n",
       "      <td>11.55</td>\n",
       "      <td>8.54</td>\n",
       "      <td>77.62</td>\n",
       "      <td>0.00</td>\n",
       "      <td>99.94</td>\n",
       "      <td>2.19</td>\n",
       "    </tr>\n",
       "    <tr>\n",
       "      <th>4</th>\n",
       "      <td>1981</td>\n",
       "      <td>2</td>\n",
       "      <td>5</td>\n",
       "      <td>16.55</td>\n",
       "      <td>11.87</td>\n",
       "      <td>8.73</td>\n",
       "      <td>76.00</td>\n",
       "      <td>0.00</td>\n",
       "      <td>100.03</td>\n",
       "      <td>2.04</td>\n",
       "    </tr>\n",
       "    <tr>\n",
       "      <th>...</th>\n",
       "      <td>...</td>\n",
       "      <td>...</td>\n",
       "      <td>...</td>\n",
       "      <td>...</td>\n",
       "      <td>...</td>\n",
       "      <td>...</td>\n",
       "      <td>...</td>\n",
       "      <td>...</td>\n",
       "      <td>...</td>\n",
       "      <td>...</td>\n",
       "    </tr>\n",
       "    <tr>\n",
       "      <th>15363</th>\n",
       "      <td>2023</td>\n",
       "      <td>2</td>\n",
       "      <td>24</td>\n",
       "      <td>21.04</td>\n",
       "      <td>11.44</td>\n",
       "      <td>8.48</td>\n",
       "      <td>56.12</td>\n",
       "      <td>0.00</td>\n",
       "      <td>99.79</td>\n",
       "      <td>2.77</td>\n",
       "    </tr>\n",
       "    <tr>\n",
       "      <th>15364</th>\n",
       "      <td>2023</td>\n",
       "      <td>2</td>\n",
       "      <td>25</td>\n",
       "      <td>21.41</td>\n",
       "      <td>12.61</td>\n",
       "      <td>9.09</td>\n",
       "      <td>60.12</td>\n",
       "      <td>0.00</td>\n",
       "      <td>100.12</td>\n",
       "      <td>3.23</td>\n",
       "    </tr>\n",
       "    <tr>\n",
       "      <th>15365</th>\n",
       "      <td>2023</td>\n",
       "      <td>2</td>\n",
       "      <td>26</td>\n",
       "      <td>22.23</td>\n",
       "      <td>12.56</td>\n",
       "      <td>9.09</td>\n",
       "      <td>57.19</td>\n",
       "      <td>0.00</td>\n",
       "      <td>100.15</td>\n",
       "      <td>3.05</td>\n",
       "    </tr>\n",
       "    <tr>\n",
       "      <th>15366</th>\n",
       "      <td>2023</td>\n",
       "      <td>2</td>\n",
       "      <td>27</td>\n",
       "      <td>22.27</td>\n",
       "      <td>11.05</td>\n",
       "      <td>8.24</td>\n",
       "      <td>51.31</td>\n",
       "      <td>0.00</td>\n",
       "      <td>100.03</td>\n",
       "      <td>2.59</td>\n",
       "    </tr>\n",
       "    <tr>\n",
       "      <th>15367</th>\n",
       "      <td>2023</td>\n",
       "      <td>2</td>\n",
       "      <td>28</td>\n",
       "      <td>21.52</td>\n",
       "      <td>11.20</td>\n",
       "      <td>8.30</td>\n",
       "      <td>54.56</td>\n",
       "      <td>0.01</td>\n",
       "      <td>100.08</td>\n",
       "      <td>2.87</td>\n",
       "    </tr>\n",
       "  </tbody>\n",
       "</table>\n",
       "<p>15368 rows × 10 columns</p>\n",
       "</div>"
      ],
      "text/plain": [
       "       Year  Month  Day  Temp 2M  Dew 2M  Spc Hum 2M  Rel Hum 2M  Prcp Crctd  \\\n",
       "0      1981      2    1    14.98   11.94        8.79       82.56        5.52   \n",
       "1      1981      2    2    15.78   11.65        8.61       78.06        0.04   \n",
       "2      1981      2    3    15.36   11.64        8.54       80.38        0.75   \n",
       "3      1981      2    4    15.77   11.55        8.54       77.62        0.00   \n",
       "4      1981      2    5    16.55   11.87        8.73       76.00        0.00   \n",
       "...     ...    ...  ...      ...     ...         ...         ...         ...   \n",
       "15363  2023      2   24    21.04   11.44        8.48       56.12        0.00   \n",
       "15364  2023      2   25    21.41   12.61        9.09       60.12        0.00   \n",
       "15365  2023      2   26    22.23   12.56        9.09       57.19        0.00   \n",
       "15366  2023      2   27    22.27   11.05        8.24       51.31        0.00   \n",
       "15367  2023      2   28    21.52   11.20        8.30       54.56        0.01   \n",
       "\n",
       "       Surf Pressure  Wind Spd 10M  \n",
       "0             100.03          3.10  \n",
       "1             100.02          2.02  \n",
       "2             100.07          2.30  \n",
       "3              99.94          2.19  \n",
       "4             100.03          2.04  \n",
       "...              ...           ...  \n",
       "15363          99.79          2.77  \n",
       "15364         100.12          3.23  \n",
       "15365         100.15          3.05  \n",
       "15366         100.03          2.59  \n",
       "15367         100.08          2.87  \n",
       "\n",
       "[15368 rows x 10 columns]"
      ]
     },
     "execution_count": 18,
     "metadata": {},
     "output_type": "execute_result"
    }
   ],
   "source": [
    "weather"
   ]
  },
  {
   "cell_type": "code",
   "execution_count": 19,
   "id": "da22e6c7-fd1b-4c55-a092-84e4e853707d",
   "metadata": {},
   "outputs": [
    {
     "data": {
      "text/plain": [
       "Year               int64\n",
       "Month              int64\n",
       "Day                int64\n",
       "Temp 2M          float64\n",
       "Dew 2M           float64\n",
       "Spc Hum 2M       float64\n",
       "Rel Hum 2M       float64\n",
       "Prcp Crctd       float64\n",
       "Surf Pressure    float64\n",
       "Wind Spd 10M     float64\n",
       "dtype: object"
      ]
     },
     "execution_count": 19,
     "metadata": {},
     "output_type": "execute_result"
    }
   ],
   "source": [
    "weather.dtypes"
   ]
  },
  {
   "cell_type": "code",
   "execution_count": 20,
   "id": "37028248-c3a6-4bc2-b44f-a0b9898200eb",
   "metadata": {},
   "outputs": [
    {
     "data": {
      "text/plain": [
       "RangeIndex(start=0, stop=15368, step=1)"
      ]
     },
     "execution_count": 20,
     "metadata": {},
     "output_type": "execute_result"
    }
   ],
   "source": [
    "weather.index"
   ]
  },
  {
   "cell_type": "code",
   "execution_count": 29,
   "id": "6514a24d-9223-4ca0-9cf9-3dc6cf0db6c0",
   "metadata": {},
   "outputs": [],
   "source": [
    "weather.index = pd.to_datetime(weather.index)"
   ]
  },
  {
   "cell_type": "code",
   "execution_count": 38,
   "id": "54c44023-b311-4cc6-8762-ec4c317e8c89",
   "metadata": {},
   "outputs": [],
   "source": [
    "weather = weather.reset_index(drop=True)"
   ]
  },
  {
   "cell_type": "code",
   "execution_count": 39,
   "id": "35b120a1-d6e0-4e52-a95f-3dd0fab38f8a",
   "metadata": {},
   "outputs": [
    {
     "data": {
      "text/plain": [
       "RangeIndex(start=0, stop=15368, step=1)"
      ]
     },
     "execution_count": 39,
     "metadata": {},
     "output_type": "execute_result"
    }
   ],
   "source": [
    "weather.index "
   ]
  },
  {
   "cell_type": "code",
   "execution_count": 44,
   "id": "6429ac02-007f-4f50-b149-9faed442146a",
   "metadata": {},
   "outputs": [
    {
     "data": {
      "text/plain": [
       "<Axes: >"
      ]
     },
     "execution_count": 44,
     "metadata": {},
     "output_type": "execute_result"
    },
    {
     "data": {
      "image/png": "[encoded data removed]",
      "text/plain": [
       "<Figure size 640x480 with 1 Axes>"
      ]
     },
     "metadata": {},
     "output_type": "display_data"
    }
   ],
   "source": [
    "weather[[\"Rel Hum 2M\", \"Wind Spd 10M\"]].plot()"
   ]
  },
  {
   "cell_type": "code",
   "execution_count": 46,
   "id": "7126b421-6d64-4e00-882f-071a7c39b240",
   "metadata": {},
   "outputs": [
    {
     "data": {
      "text/plain": [
       "<Axes: >"
      ]
     },
     "execution_count": 46,
     "metadata": {},
     "output_type": "execute_result"
    },
    {
     "data": {
      "image/png": "[encoded data removed]",
      "text/plain": [
       "<Figure size 640x480 with 1 Axes>"
      ]
     },
     "metadata": {},
     "output_type": "display_data"
    }
   ],
   "source": [
    "weather[\"Prcp Crctd\"].plot()"
   ]
  },
  {
   "cell_type": "code",
   "execution_count": null,
   "id": "671b9256-0d0b-451a-b5a0-ddc50c4c03a1",
   "metadata": {},
   "outputs": [],
   "source": [
    "    "
   ]
  }
 ],
 "metadata": {
  "kernelspec": {
   "display_name": "Python 3 (ipykernel)",
   "language": "python",
   "name": "python3"
  },
  "language_info": {
   "codemirror_mode": {
    "name": "ipython",
    "version": 3
   },
   "file_extension": ".py",
   "mimetype": "text/x-python",
   "name": "python",
   "nbconvert_exporter": "python",
   "pygments_lexer": "ipython3",
   "version": "3.11.7"
  }
 },
 "nbformat": 4,
 "nbformat_minor": 5
}
